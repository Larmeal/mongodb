{
 "cells": [
  {
   "cell_type": "code",
   "execution_count": 1,
   "metadata": {},
   "outputs": [],
   "source": [
    "from pymongo import MongoClient\n",
    "from dotenv import load_dotenv\n",
    "\n",
    "import os"
   ]
  },
  {
   "cell_type": "markdown",
   "metadata": {},
   "source": [
    "###### Reference: https://www.w3schools.com/python/python_mongodb_getstarted.asp\n",
    "###### Reference: https://medium.com/@hemant.ramphul/mongodb-crud-using-python-a-step-by-step-guide-91f4f6750de8#4595"
   ]
  },
  {
   "cell_type": "code",
   "execution_count": 2,
   "metadata": {},
   "outputs": [],
   "source": [
    "load_dotenv()\n",
    "\n",
    "USER = os.getenv(\"ROOT_USERNAME\")\n",
    "PASSWORD = os.getenv(\"ROOT_PASSWORD\")\n",
    "MONGO_PORT = os.getenv(\"MONGO_PORT\")\n",
    "IP_ADDRESS = os.getenv(\"IP_ADDRESS\")"
   ]
  },
  {
   "cell_type": "markdown",
   "metadata": {},
   "source": [
    "# Connect to MongoDB"
   ]
  },
  {
   "cell_type": "code",
   "execution_count": 3,
   "metadata": {},
   "outputs": [],
   "source": [
    "try:\n",
    "    client = MongoClient(f\"mongodb://{USER}:{PASSWORD}@{IP_ADDRESS}:{MONGO_PORT}/?authMechanism=DEFAULT\")\n",
    "except Exception as e:\n",
    "    print(e)"
   ]
  },
  {
   "cell_type": "markdown",
   "metadata": {},
   "source": [
    "# Choose the database"
   ]
  },
  {
   "cell_type": "code",
   "execution_count": 4,
   "metadata": {},
   "outputs": [],
   "source": [
    "db = client[\"movies\"]"
   ]
  },
  {
   "cell_type": "markdown",
   "metadata": {},
   "source": [
    "# Choose the Collection"
   ]
  },
  {
   "cell_type": "code",
   "execution_count": 5,
   "metadata": {},
   "outputs": [],
   "source": [
    "collection = db[\"movies\"]"
   ]
  },
  {
   "cell_type": "markdown",
   "metadata": {},
   "source": [
    "### Create the Document"
   ]
  },
  {
   "cell_type": "code",
   "execution_count": 6,
   "metadata": {},
   "outputs": [],
   "source": [
    "# import pandas as pd"
   ]
  },
  {
   "cell_type": "code",
   "execution_count": 7,
   "metadata": {},
   "outputs": [],
   "source": [
    "# df = pd.read_csv(\"src/movies.csv\")"
   ]
  },
  {
   "cell_type": "code",
   "execution_count": 8,
   "metadata": {},
   "outputs": [],
   "source": [
    "# df.to_json(\"src/movies.json\", orient=\"records\")"
   ]
  },
  {
   "cell_type": "markdown",
   "metadata": {},
   "source": [
    "# Operation in MongoDB"
   ]
  },
  {
   "cell_type": "markdown",
   "metadata": {},
   "source": [
    "### Inser data to MongoDB"
   ]
  },
  {
   "cell_type": "code",
   "execution_count": 10,
   "metadata": {},
   "outputs": [],
   "source": [
    "data =  {\n",
    "    \"index\": 0,\n",
    "    \"adult\": False,\n",
    "    \"belongs_to_collection\": \"Toy Story Collection\",\n",
    "    \"budget\": 30000000,\n",
    "    \"original_language\": \"en\",\n",
    "    \"original_title\": \"Toy Story\",\n",
    "    \"overview\": \"Led by Woody, Andy's toys live happily in his room until Andy's birthday brings Buzz Lightyear onto the scene. Afraid of losing his place in Andy's heart, Woody plots against Buzz. But when circumstances separate Buzz and Woody from their owner, the duo eventually learns to put aside their differences.\",\n",
    "    \"popularity\": 21.946943,\n",
    "    \"release_date\": \"1995-10-30\",\n",
    "    \"revenue\": 373554033.0,\n",
    "    \"runtime\": 81.0,\n",
    "    \"tagline\": \"not available\",\n",
    "    \"title\": \"Toy Story\",\n",
    "    \"vote_average\": 7.7,\n",
    "    \"vote_count\": 5415.0,\n",
    "    \"languages\": \"['English']\",\n",
    "    \"day_of_week\": \"Monday\",\n",
    "    \"month\": \"Oct\",\n",
    "    \"season\": \"Q4\",\n",
    "    \"year\": 1995,\n",
    "    \"has_homepage\": \"YES\",\n",
    "    \"genre\": \"['Animation', 'Comedy', 'Family']\",\n",
    "    \"companies\": \"['Pixar Animation Studios']\",\n",
    "    \"countries\": \"['United States of America']\"\n",
    "}"
   ]
  },
  {
   "cell_type": "code",
   "execution_count": 11,
   "metadata": {},
   "outputs": [],
   "source": [
    "# Insert one document\n",
    "request = collection.insert_one(data).inserted_id"
   ]
  },
  {
   "cell_type": "code",
   "execution_count": 6,
   "metadata": {},
   "outputs": [],
   "source": [
    "data = [\n",
    "    {\n",
    "        \"index\": 1,\n",
    "        \"adult\": False,\n",
    "        \"belongs_to_collection\": \"not available\",\n",
    "        \"budget\": 65000000,\n",
    "        \"original_language\": \"en\",\n",
    "        \"original_title\": \"Jumanji\",\n",
    "        \"overview\": \"When siblings Judy and Peter discover an enchanted board game that opens the door to a magical world, they unwittingly invite Alan -- an adult who's been trapped inside the game for 26 years -- into their living room. Alan's only hope for freedom is to finish the game, which proves risky as all three find themselves running from giant rhinoceroses, evil monkeys and other terrifying creatures.\",\n",
    "        \"popularity\": 17.015539,\n",
    "        \"release_date\": \"1995-12-15\",\n",
    "        \"revenue\": 262797249.0,\n",
    "        \"runtime\": 104.0,\n",
    "        \"tagline\": \"Roll the dice and unleash the excitement!\",\n",
    "        \"title\": \"Jumanji\",\n",
    "        \"vote_average\": 6.9,\n",
    "        \"vote_count\": 2413.0,\n",
    "        \"languages\": \"['English', 'Fran\\u00e7ais']\",\n",
    "        \"day_of_week\": \"Friday\",\n",
    "        \"month\": \"Dec\",\n",
    "        \"season\": \"Q4\",\n",
    "        \"year\": 1995,\n",
    "        \"has_homepage\": \"NO\",\n",
    "        \"genre\": \"['Adventure', 'Fantasy', 'Family']\",\n",
    "        \"companies\": \"['TriStar Pictures', 'Teitler Film', 'Interscope Communications']\",\n",
    "        \"countries\": \"['United States of America']\"\n",
    "    },\n",
    "    {\n",
    "        \"index\": 2,\n",
    "        \"adult\": False,\n",
    "        \"belongs_to_collection\": \"Grumpy Old Men Collection\",\n",
    "        \"budget\": 0,\n",
    "        \"original_language\": \"en\",\n",
    "        \"original_title\": \"Grumpier Old Men\",\n",
    "        \"overview\": \"A family wedding reignites the ancient feud between next-door neighbors and fishing buddies John and Max. Meanwhile, a sultry Italian divorc\\u00e9e opens a restaurant at the local bait shop, alarming the locals who worry she'll scare the fish away. But she's less interested in seafood than she is in cooking up a hot time with Max.\",\n",
    "        \"popularity\": 11.7129,\n",
    "        \"release_date\": \"1995-12-22\",\n",
    "        \"revenue\": 0.0,\n",
    "        \"runtime\": 101.0,\n",
    "        \"tagline\": \"Still Yelling. Still Fighting. Still Ready for Love.\",\n",
    "        \"title\": \"Grumpier Old Men\",\n",
    "        \"vote_average\": 6.5,\n",
    "        \"vote_count\": 92.0,\n",
    "        \"languages\": \"['English']\",\n",
    "        \"day_of_week\": \"Friday\",\n",
    "        \"month\": \"Dec\",\n",
    "        \"season\": \"Q4\",\n",
    "        \"year\": 1995,\n",
    "        \"has_homepage\": \"NO\",\n",
    "        \"genre\": \"['Romance', 'Comedy']\",\n",
    "        \"companies\": \"['Warner Bros.', 'Lancaster Gate']\",\n",
    "        \"countries\": \"['United States of America']\"\n",
    "    },\n",
    "    {\n",
    "        \"index\": 3,\n",
    "        \"adult\": False,\n",
    "        \"belongs_to_collection\": \"not available\",\n",
    "        \"budget\": 16000000,\n",
    "        \"original_language\": \"en\",\n",
    "        \"original_title\": \"Waiting to Exhale\",\n",
    "        \"overview\": \"Cheated on, mistreated and stepped on, the women are holding their breath, waiting for the elusive \\\"good man\\\" to break a string of less-than-stellar lovers. Friends and confidants Vannah, Bernie, Glo and Robin talk it all out, determined to find a better way to breathe.\",\n",
    "        \"popularity\": 3.859495,\n",
    "        \"release_date\": \"1995-12-22\",\n",
    "        \"revenue\": 81452156.0,\n",
    "        \"runtime\": 127.0,\n",
    "        \"tagline\": \"Friends are the people who let you be yourself... and never let you forget it.\",\n",
    "        \"title\": \"Waiting to Exhale\",\n",
    "        \"vote_average\": 6.1,\n",
    "        \"vote_count\": 34.0,\n",
    "        \"languages\": \"['English']\",\n",
    "        \"day_of_week\": \"Friday\",\n",
    "        \"month\": \"Dec\",\n",
    "        \"season\": \"Q4\",\n",
    "        \"year\": 1995,\n",
    "        \"has_homepage\": \"NO\",\n",
    "        \"genre\": \"['Comedy', 'Drama', 'Romance']\",\n",
    "        \"companies\": \"['Twentieth Century Fox Film Corporation']\",\n",
    "        \"countries\": \"['United States of America']\"\n",
    "    }\n",
    "]"
   ]
  },
  {
   "cell_type": "code",
   "execution_count": 7,
   "metadata": {},
   "outputs": [],
   "source": [
    "# Insert many document\n",
    "request = collection.insert_many(data)"
   ]
  },
  {
   "cell_type": "markdown",
   "metadata": {},
   "source": [
    "### Find the document"
   ]
  },
  {
   "cell_type": "code",
   "execution_count": 16,
   "metadata": {},
   "outputs": [
    {
     "data": {
      "text/plain": [
       "{'_id': ObjectId('663f7b4915e69d96c667930d'),\n",
       " 'index': 0,\n",
       " 'adult': False,\n",
       " 'belongs_to_collection': 'Toy Story Collection',\n",
       " 'budget': 30000000,\n",
       " 'original_language': 'en',\n",
       " 'original_title': 'Toy Story',\n",
       " 'overview': \"Led by Woody, Andy's toys live happily in his room until Andy's birthday brings Buzz Lightyear onto the scene. Afraid of losing his place in Andy's heart, Woody plots against Buzz. But when circumstances separate Buzz and Woody from their owner, the duo eventually learns to put aside their differences.\",\n",
       " 'popularity': 21.946943,\n",
       " 'release_date': '1995-10-30',\n",
       " 'revenue': 373554033.0,\n",
       " 'runtime': 81.0,\n",
       " 'tagline': 'not available',\n",
       " 'title': 'Toy Story',\n",
       " 'vote_average': 7.7,\n",
       " 'vote_count': 5415.0,\n",
       " 'languages': \"['English']\",\n",
       " 'day_of_week': 'Monday',\n",
       " 'month': 'Oct',\n",
       " 'season': 'Q4',\n",
       " 'year': 1995,\n",
       " 'has_homepage': 'YES',\n",
       " 'genre': \"['Animation', 'Comedy', 'Family']\",\n",
       " 'companies': \"['Pixar Animation Studios']\",\n",
       " 'countries': \"['United States of America']\"}"
      ]
     },
     "execution_count": 16,
     "metadata": {},
     "output_type": "execute_result"
    }
   ],
   "source": [
    "# Fine the one data\n",
    "# The result like SELECT * in SQL\n",
    "request = collection.find_one(filter={\"year\": 1995})\n",
    "request"
   ]
  },
  {
   "cell_type": "markdown",
   "metadata": {},
   "source": [
    "### Delete the document"
   ]
  },
  {
   "cell_type": "code",
   "execution_count": 17,
   "metadata": {},
   "outputs": [],
   "source": [
    "query = {\"index\": 0}"
   ]
  },
  {
   "cell_type": "code",
   "execution_count": 18,
   "metadata": {},
   "outputs": [
    {
     "data": {
      "text/plain": [
       "DeleteResult({'n': 1, 'ok': 1.0}, acknowledged=True)"
      ]
     },
     "execution_count": 18,
     "metadata": {},
     "output_type": "execute_result"
    }
   ],
   "source": [
    "# Delete the one data\n",
    "collection.delete_one(query)"
   ]
  },
  {
   "cell_type": "code",
   "execution_count": 27,
   "metadata": {},
   "outputs": [],
   "source": [
    "query = {\"$or\": [{\"index\": 2}, {\"index\": 3}]}"
   ]
  },
  {
   "cell_type": "code",
   "execution_count": 28,
   "metadata": {},
   "outputs": [
    {
     "data": {
      "text/plain": [
       "DeleteResult({'n': 2, 'ok': 1.0}, acknowledged=True)"
      ]
     },
     "execution_count": 28,
     "metadata": {},
     "output_type": "execute_result"
    }
   ],
   "source": [
    "# Delete many documents\n",
    "collection.delete_many(query)"
   ]
  },
  {
   "cell_type": "code",
   "execution_count": null,
   "metadata": {},
   "outputs": [],
   "source": []
  }
 ],
 "metadata": {
  "kernelspec": {
   "display_name": "mongodb",
   "language": "python",
   "name": "python3"
  },
  "language_info": {
   "codemirror_mode": {
    "name": "ipython",
    "version": 3
   },
   "file_extension": ".py",
   "mimetype": "text/x-python",
   "name": "python",
   "nbconvert_exporter": "python",
   "pygments_lexer": "ipython3",
   "version": "3.11.9"
  }
 },
 "nbformat": 4,
 "nbformat_minor": 2
}
