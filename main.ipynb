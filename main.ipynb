{
 "cells": [
  {
   "cell_type": "code",
   "execution_count": 2,
   "metadata": {},
   "outputs": [],
   "source": [
    "from pymongo import MongoClient\n",
    "from dotenv import load_dotenv\n",
    "\n",
    "import os"
   ]
  },
  {
   "cell_type": "code",
   "execution_count": 2,
   "metadata": {},
   "outputs": [],
   "source": [
    "load_dotenv()\n",
    "\n",
    "USER = os.getenv(\"ROOT_USERNAME\")\n",
    "PASSWORD = os.getenv(\"ROOT_PASSWORD\")\n",
    "MONGO_PORT = os.getenv(\"MONGO_PORT\")\n",
    "IP_ADDRESS = os.getenv(\"IP_ADDRESS\")"
   ]
  },
  {
   "cell_type": "markdown",
   "metadata": {},
   "source": [
    "# Connect to MongoDB"
   ]
  },
  {
   "cell_type": "code",
   "execution_count": 3,
   "metadata": {},
   "outputs": [],
   "source": [
    "try:\n",
    "    client = MongoClient(f\"mongodb://{USER}:{PASSWORD}@{IP_ADDRESS}:{MONGO_PORT}/?authMechanism=DEFAULT\")\n",
    "except Exception as e:\n",
    "    print(e)"
   ]
  },
  {
   "cell_type": "markdown",
   "metadata": {},
   "source": [
    "# Choose the database"
   ]
  },
  {
   "cell_type": "code",
   "execution_count": 4,
   "metadata": {},
   "outputs": [],
   "source": [
    "db = client[\"movies\"]"
   ]
  },
  {
   "cell_type": "markdown",
   "metadata": {},
   "source": [
    "# Choose the Collection"
   ]
  },
  {
   "cell_type": "code",
   "execution_count": 5,
   "metadata": {},
   "outputs": [],
   "source": [
    "collection = db[\"movies\"]"
   ]
  },
  {
   "cell_type": "markdown",
   "metadata": {},
   "source": [
    "### Create the Document"
   ]
  },
  {
   "cell_type": "code",
   "execution_count": 6,
   "metadata": {},
   "outputs": [],
   "source": [
    "# import pandas as pd"
   ]
  },
  {
   "cell_type": "code",
   "execution_count": 7,
   "metadata": {},
   "outputs": [],
   "source": [
    "# df = pd.read_csv(\"src/movies.csv\")"
   ]
  },
  {
   "cell_type": "code",
   "execution_count": 8,
   "metadata": {},
   "outputs": [],
   "source": [
    "# df.to_json(\"src/movies.json\", orient=\"records\")"
   ]
  },
  {
   "cell_type": "markdown",
   "metadata": {},
   "source": [
    "# Operation in MongoDB"
   ]
  },
  {
   "cell_type": "markdown",
   "metadata": {},
   "source": [
    "### Inser data to MongoDB"
   ]
  },
  {
   "cell_type": "code",
   "execution_count": 10,
   "metadata": {},
   "outputs": [],
   "source": [
    "data =  {\n",
    "    \"index\": 0,\n",
    "    \"adult\": False,\n",
    "    \"belongs_to_collection\": \"Toy Story Collection\",\n",
    "    \"budget\": 30000000,\n",
    "    \"original_language\": \"en\",\n",
    "    \"original_title\": \"Toy Story\",\n",
    "    \"overview\": \"Led by Woody, Andy's toys live happily in his room until Andy's birthday brings Buzz Lightyear onto the scene. Afraid of losing his place in Andy's heart, Woody plots against Buzz. But when circumstances separate Buzz and Woody from their owner, the duo eventually learns to put aside their differences.\",\n",
    "    \"popularity\": 21.946943,\n",
    "    \"release_date\": \"1995-10-30\",\n",
    "    \"revenue\": 373554033.0,\n",
    "    \"runtime\": 81.0,\n",
    "    \"tagline\": \"not available\",\n",
    "    \"title\": \"Toy Story\",\n",
    "    \"vote_average\": 7.7,\n",
    "    \"vote_count\": 5415.0,\n",
    "    \"languages\": \"['English']\",\n",
    "    \"day_of_week\": \"Monday\",\n",
    "    \"month\": \"Oct\",\n",
    "    \"season\": \"Q4\",\n",
    "    \"year\": 1995,\n",
    "    \"has_homepage\": \"YES\",\n",
    "    \"genre\": \"['Animation', 'Comedy', 'Family']\",\n",
    "    \"companies\": \"['Pixar Animation Studios']\",\n",
    "    \"countries\": \"['United States of America']\"\n",
    "}"
   ]
  },
  {
   "cell_type": "code",
   "execution_count": 11,
   "metadata": {},
   "outputs": [],
   "source": [
    "request = collection.insert_one(data).inserted_id"
   ]
  },
  {
   "cell_type": "code",
   "execution_count": null,
   "metadata": {},
   "outputs": [],
   "source": []
  }
 ],
 "metadata": {
  "kernelspec": {
   "display_name": "mongodb",
   "language": "python",
   "name": "python3"
  },
  "language_info": {
   "codemirror_mode": {
    "name": "ipython",
    "version": 3
   },
   "file_extension": ".py",
   "mimetype": "text/x-python",
   "name": "python",
   "nbconvert_exporter": "python",
   "pygments_lexer": "ipython3",
   "version": "3.11.9"
  }
 },
 "nbformat": 4,
 "nbformat_minor": 2
}
